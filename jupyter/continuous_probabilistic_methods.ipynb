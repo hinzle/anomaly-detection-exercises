{
 "cells": [
  {
   "cell_type": "markdown",
   "metadata": {},
   "source": [
    "# Anomaly Detection Overview:\n",
    "\n",
    "Exercise\n",
    "\n",
    "Take a few minutes and jot down some example applications, specific problems, or domains where detecting anomalies is super valuable and impactful.\n",
    "- In commodities trading, detecting outliers can be beneficial for preventing losses from a portfolio. e.g. detecting an anomolous price drop can trigger a sell order to hopefully minimize losses.\n",
    "- In the medical community, early detection if often linked to better results when treating certain illnesses.\n",
    "\n",
    "\n",
    "Identify a few example applications, specific problems, or domains where the outliers can skew the data in a negative way and those outliers may be safely avoided for producing a model.\n",
    "- In commodities trading, prices can be volatile due to the nature of the human spirit. Abnormal purchases from uncommon players in a certain market may affect the price significantly and still be dismissable due to the unreliable frequency of such events.\n",
    "- Shoe manufacturer's probably ignore outliers in shoe sizes. Perhaps outliers need custom shoes.\n"
   ]
  },
  {
   "cell_type": "markdown",
   "metadata": {},
   "source": [
    "# Imports"
   ]
  },
  {
   "cell_type": "code",
   "execution_count": 1,
   "metadata": {},
   "outputs": [
    {
     "name": "stderr",
     "output_type": "stream",
     "text": [
      "Intel(R) Extension for Scikit-learn* enabled (https://github.com/intel/scikit-learn-intelex)\n"
     ]
    }
   ],
   "source": [
    "# current filepath system leaves plenty to be desired\n",
    "import sys\n",
    "local_path = '/Users/hinzlehome/codeup-data-science/binance-project/'\n",
    "sys.path.insert(0, local_path)\n",
    "\n",
    "# imports.py in /utils/\n",
    "from utils.imports import *\n",
    "\n",
    "# plotting magic\n",
    "%matplotlib inline\n",
    "# plotting defaults\n",
    "plt.rc('figure', figsize=(16, 9))\n",
    "plt.style.use('seaborn-darkgrid')\n",
    "plt.rc('font', size=16)\n",
    "# plt.style.available\n",
    "# ^^^ show available seaborn styles\n",
    "\n",
    "# !!! Warning !!! \n",
    "# *** no more warnings ***\n",
    "# import warnings\n",
    "# warnings.filterwarnings(\"ignore\")\n",
    "\n",
    "# custom mods\n",
    "from utils.tidy import *\n",
    "from utils.model import *\n"
   ]
  }
 ],
 "metadata": {
  "interpreter": {
   "hash": "3067ead486e059ec00ffe7555bdb889e6e264a24dc711bf108106cc7baee8d5d"
  },
  "kernelspec": {
   "display_name": "Python 3.9.7 ('base')",
   "language": "python",
   "name": "python3"
  },
  "language_info": {
   "codemirror_mode": {
    "name": "ipython",
    "version": 3
   },
   "file_extension": ".py",
   "mimetype": "text/x-python",
   "name": "python",
   "nbconvert_exporter": "python",
   "pygments_lexer": "ipython3",
   "version": "3.9.12"
  }
 },
 "nbformat": 4,
 "nbformat_minor": 2
}
