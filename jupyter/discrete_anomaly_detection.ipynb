{
 "cells": [
  {
   "cell_type": "markdown",
   "metadata": {},
   "source": [
    "# Imports "
   ]
  },
  {
   "cell_type": "code",
   "execution_count": 1,
   "metadata": {},
   "outputs": [
    {
     "name": "stderr",
     "output_type": "stream",
     "text": [
      "Intel(R) Extension for Scikit-learn* enabled (https://github.com/intel/scikit-learn-intelex)\n"
     ]
    }
   ],
   "source": [
    "# current filepath system leaves plenty to be desired\n",
    "import sys\n",
    "local_path = '/Users/hinzlehome/codeup-data-science/anomaly-detection-exercises/'\n",
    "sys.path.insert(0, local_path)\n",
    "\n",
    "# imports.py in /utils/\n",
    "from utils.imports import *\n",
    "\n",
    "# plotting magic\n",
    "%matplotlib inline\n",
    "# plotting defaults\n",
    "plt.rc('figure', figsize=(16, 9))\n",
    "plt.style.use('seaborn-darkgrid')\n",
    "plt.rc('font', size=16)\n",
    "# plt.style.available\n",
    "# ^^^ show available seaborn styles\n",
    "\n",
    "# !!! Warning !!! \n",
    "# *** no more warnings ***\n",
    "# import warnings\n",
    "# warnings.filterwarnings(\"ignore\")\n",
    "\n",
    "# custom mods\n",
    "from utils.tidy import *\n",
    "from utils.model import *\n"
   ]
  },
  {
   "cell_type": "markdown",
   "metadata": {},
   "source": [
    "# Tidy"
   ]
  },
  {
   "cell_type": "code",
   "execution_count": 79,
   "metadata": {},
   "outputs": [],
   "source": [
    "# first run\n",
    "# url=get_db_url('logs')\n",
    "# df = pd.read_sql('SELECT * FROM api_access', url)\n",
    "# df.to_csv('/Users/hinzlehome/codeup-data-science/anomaly-detection-exercises/csv/logs.csv')\n",
    "# # cached\n",
    "# df = pd.read_csv('/Users/hinzlehome/codeup-data-science/anomaly-detection-exercises/csv/logs.csv')"
   ]
  },
  {
   "cell_type": "code",
   "execution_count": 6,
   "metadata": {},
   "outputs": [],
   "source": [
    "# # first run\n",
    "# # function to deal with parsing one entry in our log data\n",
    "# def parse_log_entry(entry):\n",
    "#     parts = entry.split()\n",
    "#     output = {}\n",
    "#     output['ip'] = parts[0]\n",
    "#     output['timestamp'] = parts[3][1:].replace(':', ' ', 1)\n",
    "#     output['request_method'] = parts[5][1:]\n",
    "#     output['request_path'] = parts[6]\n",
    "#     output['http_version'] = parts[7][:-1]\n",
    "#     output['status_code'] = parts[8]\n",
    "#     output['size'] = int(parts[9])\n",
    "#     output['user_agent'] = ' '.join(parts[11:]).replace('\"', '')\n",
    "#     return pd.Series(output)\n",
    "\n",
    "# df = df.entry.apply(parse_log_entry)\n",
    "\n",
    "# df.to_csv('/Users/hinzlehome/codeup-data-science/anomaly-detection-exercises/csv/tidy_logs.csv',index=False)\n"
   ]
  },
  {
   "cell_type": "code",
   "execution_count": 12,
   "metadata": {},
   "outputs": [],
   "source": [
    "# returns tidy logs if previously cached from db\n",
    "df=pd.read_csv('/Users/hinzlehome/codeup-data-science/anomaly-detection-exercises/csv/tidy_logs.csv')"
   ]
  },
  {
   "cell_type": "code",
   "execution_count": 13,
   "metadata": {},
   "outputs": [
    {
     "data": {
      "text/html": [
       "<div>\n",
       "<style scoped>\n",
       "    .dataframe tbody tr th:only-of-type {\n",
       "        vertical-align: middle;\n",
       "    }\n",
       "\n",
       "    .dataframe tbody tr th {\n",
       "        vertical-align: top;\n",
       "    }\n",
       "\n",
       "    .dataframe thead th {\n",
       "        text-align: right;\n",
       "    }\n",
       "</style>\n",
       "<table border=\"1\" class=\"dataframe\">\n",
       "  <thead>\n",
       "    <tr style=\"text-align: right;\">\n",
       "      <th></th>\n",
       "      <th>ip</th>\n",
       "      <th>timestamp</th>\n",
       "      <th>request_method</th>\n",
       "      <th>request_path</th>\n",
       "      <th>http_version</th>\n",
       "      <th>status_code</th>\n",
       "      <th>size</th>\n",
       "      <th>user_agent</th>\n",
       "    </tr>\n",
       "  </thead>\n",
       "  <tbody>\n",
       "    <tr>\n",
       "      <th>0</th>\n",
       "      <td>97.105.19.58</td>\n",
       "      <td>16/Apr/2019 19:34:42</td>\n",
       "      <td>GET</td>\n",
       "      <td>/api/v1/sales?page=81</td>\n",
       "      <td>HTTP/1.1</td>\n",
       "      <td>200</td>\n",
       "      <td>512495</td>\n",
       "      <td>python-requests/2.21.0</td>\n",
       "    </tr>\n",
       "    <tr>\n",
       "      <th>1</th>\n",
       "      <td>97.105.19.58</td>\n",
       "      <td>16/Apr/2019 19:34:42</td>\n",
       "      <td>GET</td>\n",
       "      <td>/api/v1/items</td>\n",
       "      <td>HTTP/1.1</td>\n",
       "      <td>200</td>\n",
       "      <td>3561</td>\n",
       "      <td>python-requests/2.21.0</td>\n",
       "    </tr>\n",
       "    <tr>\n",
       "      <th>2</th>\n",
       "      <td>97.105.19.58</td>\n",
       "      <td>16/Apr/2019 19:34:44</td>\n",
       "      <td>GET</td>\n",
       "      <td>/api/v1/sales?page=82</td>\n",
       "      <td>HTTP/1.1</td>\n",
       "      <td>200</td>\n",
       "      <td>510103</td>\n",
       "      <td>python-requests/2.21.0</td>\n",
       "    </tr>\n",
       "    <tr>\n",
       "      <th>3</th>\n",
       "      <td>97.105.19.58</td>\n",
       "      <td>16/Apr/2019 19:34:46</td>\n",
       "      <td>GET</td>\n",
       "      <td>/api/v1/sales?page=83</td>\n",
       "      <td>HTTP/1.1</td>\n",
       "      <td>200</td>\n",
       "      <td>510003</td>\n",
       "      <td>python-requests/2.21.0</td>\n",
       "    </tr>\n",
       "    <tr>\n",
       "      <th>4</th>\n",
       "      <td>97.105.19.58</td>\n",
       "      <td>16/Apr/2019 19:34:48</td>\n",
       "      <td>GET</td>\n",
       "      <td>/api/v1/sales?page=84</td>\n",
       "      <td>HTTP/1.1</td>\n",
       "      <td>200</td>\n",
       "      <td>511963</td>\n",
       "      <td>python-requests/2.21.0</td>\n",
       "    </tr>\n",
       "  </tbody>\n",
       "</table>\n",
       "</div>"
      ],
      "text/plain": [
       "             ip             timestamp request_method           request_path  \\\n",
       "0  97.105.19.58  16/Apr/2019 19:34:42            GET  /api/v1/sales?page=81   \n",
       "1  97.105.19.58  16/Apr/2019 19:34:42            GET          /api/v1/items   \n",
       "2  97.105.19.58  16/Apr/2019 19:34:44            GET  /api/v1/sales?page=82   \n",
       "3  97.105.19.58  16/Apr/2019 19:34:46            GET  /api/v1/sales?page=83   \n",
       "4  97.105.19.58  16/Apr/2019 19:34:48            GET  /api/v1/sales?page=84   \n",
       "\n",
       "  http_version  status_code    size              user_agent  \n",
       "0     HTTP/1.1          200  512495  python-requests/2.21.0  \n",
       "1     HTTP/1.1          200    3561  python-requests/2.21.0  \n",
       "2     HTTP/1.1          200  510103  python-requests/2.21.0  \n",
       "3     HTTP/1.1          200  510003  python-requests/2.21.0  \n",
       "4     HTTP/1.1          200  511963  python-requests/2.21.0  "
      ]
     },
     "execution_count": 13,
     "metadata": {},
     "output_type": "execute_result"
    }
   ],
   "source": [
    "df.head()"
   ]
  },
  {
   "cell_type": "markdown",
   "metadata": {},
   "source": [
    "# Adding Errors"
   ]
  },
  {
   "cell_type": "code",
   "execution_count": 25,
   "metadata": {},
   "outputs": [
    {
     "name": "stderr",
     "output_type": "stream",
     "text": [
      "/var/folders/mk/w2hz4wxx7xn5hr_56wz536gh0000gn/T/ipykernel_27878/447971755.py:8: FutureWarning: The frame.append method is deprecated and will be removed from pandas in a future version. Use pandas.concat instead.\n",
      "  df = df.append(new)\n"
     ]
    }
   ],
   "source": [
    "new = pd.DataFrame([\n",
    "    [\"95.31.18.119\", \"21/Apr/2019 10:02:41\", \"GET\", \"/api/v1/items/\", \"HTTP/1.1\", '200', 1153005, \"python-requests/2.21.0\"],\n",
    "    [\"95.31.16.121\", \"17/Apr/2019 19:36:41\", \"GET\", \"/api/v1/sales?page=79/\", \"HTTP/1.1\", '301', 1005, \"python-requests/2.21.0\"],\n",
    "    [\"97.105.15.120\", \"18/Apr/2019 19:42:41\", \"GET\", \"/api/v1/sales?page=79/\", \"HTTP/1.1\", '301', 2560, \"python-requests/2.21.0\"],\n",
    "    [\"97.105.19.58\", \"19/Apr/2019 19:42:41\", \"GET\", \"/api/v1/sales?page=79/\", \"HTTP/1.1\", '200', 2056327, \"python-requests/2.21.0\"],\n",
    "], columns=df.columns)\n",
    "\n",
    "df = df.append(new)\n"
   ]
  },
  {
   "cell_type": "code",
   "execution_count": 26,
   "metadata": {},
   "outputs": [],
   "source": [
    "df['size_mb'] = df['size'] / 1024 / 1024\n",
    "df.timestamp = pd.to_datetime(df.timestamp)\n",
    "df = df.set_index('timestamp')\n"
   ]
  },
  {
   "cell_type": "markdown",
   "metadata": {},
   "source": [
    "# Detecting Anomalies in Discrete Variables"
   ]
  },
  {
   "cell_type": "code",
   "execution_count": 36,
   "metadata": {},
   "outputs": [
    {
     "data": {
      "text/html": [
       "<div>\n",
       "<style scoped>\n",
       "    .dataframe tbody tr th:only-of-type {\n",
       "        vertical-align: middle;\n",
       "    }\n",
       "\n",
       "    .dataframe tbody tr th {\n",
       "        vertical-align: top;\n",
       "    }\n",
       "\n",
       "    .dataframe thead th {\n",
       "        text-align: right;\n",
       "    }\n",
       "</style>\n",
       "<table border=\"1\" class=\"dataframe\">\n",
       "  <thead>\n",
       "    <tr style=\"text-align: right;\">\n",
       "      <th></th>\n",
       "      <th>ip</th>\n",
       "      <th>request_method</th>\n",
       "      <th>request_path</th>\n",
       "      <th>http_version</th>\n",
       "      <th>status_code</th>\n",
       "      <th>size</th>\n",
       "      <th>user_agent</th>\n",
       "      <th>size_mb</th>\n",
       "    </tr>\n",
       "    <tr>\n",
       "      <th>timestamp</th>\n",
       "      <th></th>\n",
       "      <th></th>\n",
       "      <th></th>\n",
       "      <th></th>\n",
       "      <th></th>\n",
       "      <th></th>\n",
       "      <th></th>\n",
       "      <th></th>\n",
       "    </tr>\n",
       "  </thead>\n",
       "  <tbody>\n",
       "    <tr>\n",
       "      <th>2019-04-16 19:34:42</th>\n",
       "      <td>97.105.19.58</td>\n",
       "      <td>GET</td>\n",
       "      <td>/api/v1/sales?page=81</td>\n",
       "      <td>HTTP/1.1</td>\n",
       "      <td>200</td>\n",
       "      <td>512495</td>\n",
       "      <td>python-requests/2.21.0</td>\n",
       "      <td>0.488753</td>\n",
       "    </tr>\n",
       "    <tr>\n",
       "      <th>2019-04-16 19:34:42</th>\n",
       "      <td>97.105.19.58</td>\n",
       "      <td>GET</td>\n",
       "      <td>/api/v1/items</td>\n",
       "      <td>HTTP/1.1</td>\n",
       "      <td>200</td>\n",
       "      <td>3561</td>\n",
       "      <td>python-requests/2.21.0</td>\n",
       "      <td>0.003396</td>\n",
       "    </tr>\n",
       "    <tr>\n",
       "      <th>2019-04-16 19:34:44</th>\n",
       "      <td>97.105.19.58</td>\n",
       "      <td>GET</td>\n",
       "      <td>/api/v1/sales?page=82</td>\n",
       "      <td>HTTP/1.1</td>\n",
       "      <td>200</td>\n",
       "      <td>510103</td>\n",
       "      <td>python-requests/2.21.0</td>\n",
       "      <td>0.486472</td>\n",
       "    </tr>\n",
       "    <tr>\n",
       "      <th>2019-04-16 19:34:46</th>\n",
       "      <td>97.105.19.58</td>\n",
       "      <td>GET</td>\n",
       "      <td>/api/v1/sales?page=83</td>\n",
       "      <td>HTTP/1.1</td>\n",
       "      <td>200</td>\n",
       "      <td>510003</td>\n",
       "      <td>python-requests/2.21.0</td>\n",
       "      <td>0.486377</td>\n",
       "    </tr>\n",
       "    <tr>\n",
       "      <th>2019-04-16 19:34:48</th>\n",
       "      <td>97.105.19.58</td>\n",
       "      <td>GET</td>\n",
       "      <td>/api/v1/sales?page=84</td>\n",
       "      <td>HTTP/1.1</td>\n",
       "      <td>200</td>\n",
       "      <td>511963</td>\n",
       "      <td>python-requests/2.21.0</td>\n",
       "      <td>0.488246</td>\n",
       "    </tr>\n",
       "  </tbody>\n",
       "</table>\n",
       "</div>"
      ],
      "text/plain": [
       "                               ip request_method           request_path  \\\n",
       "timestamp                                                                 \n",
       "2019-04-16 19:34:42  97.105.19.58            GET  /api/v1/sales?page=81   \n",
       "2019-04-16 19:34:42  97.105.19.58            GET          /api/v1/items   \n",
       "2019-04-16 19:34:44  97.105.19.58            GET  /api/v1/sales?page=82   \n",
       "2019-04-16 19:34:46  97.105.19.58            GET  /api/v1/sales?page=83   \n",
       "2019-04-16 19:34:48  97.105.19.58            GET  /api/v1/sales?page=84   \n",
       "\n",
       "                    http_version status_code    size              user_agent  \\\n",
       "timestamp                                                                      \n",
       "2019-04-16 19:34:42     HTTP/1.1         200  512495  python-requests/2.21.0   \n",
       "2019-04-16 19:34:42     HTTP/1.1         200    3561  python-requests/2.21.0   \n",
       "2019-04-16 19:34:44     HTTP/1.1         200  510103  python-requests/2.21.0   \n",
       "2019-04-16 19:34:46     HTTP/1.1         200  510003  python-requests/2.21.0   \n",
       "2019-04-16 19:34:48     HTTP/1.1         200  511963  python-requests/2.21.0   \n",
       "\n",
       "                      size_mb  \n",
       "timestamp                      \n",
       "2019-04-16 19:34:42  0.488753  \n",
       "2019-04-16 19:34:42  0.003396  \n",
       "2019-04-16 19:34:44  0.486472  \n",
       "2019-04-16 19:34:46  0.486377  \n",
       "2019-04-16 19:34:48  0.488246  "
      ]
     },
     "execution_count": 36,
     "metadata": {},
     "output_type": "execute_result"
    }
   ],
   "source": [
    "df.head()"
   ]
  },
  {
   "cell_type": "code",
   "execution_count": 37,
   "metadata": {},
   "outputs": [
    {
     "data": {
      "text/plain": [
       "[97.105.19.58      11999\n",
       " 173.173.113.51     1059\n",
       " 72.181.113.170      613\n",
       " 72.181.105.81       246\n",
       " 68.201.219.223       21\n",
       " Name: ip, dtype: int64,\n",
       " GET    13978\n",
       " Name: request_method, dtype: int64,\n",
       " /api/v1/sales?page=2    709\n",
       " /api/v1/items           464\n",
       " /api/v1/items?page=2    291\n",
       " /api/v1/items?page=3    219\n",
       " /api/v1/stores          162\n",
       " Name: request_path, dtype: int64,\n",
       " HTTP/1.1    13978\n",
       " Name: http_version, dtype: int64,\n",
       " 200    13958\n",
       " 499       16\n",
       " 200        2\n",
       " 301        2\n",
       " Name: status_code, dtype: int64,\n",
       " 494819    705\n",
       " 3561      548\n",
       " 3659      291\n",
       " 1328      229\n",
       " 1787      219\n",
       " Name: size, dtype: int64,\n",
       " python-requests/2.21.0                                                                                                       12005\n",
       " python-requests/2.20.1                                                                                                        1911\n",
       " Mozilla/5.0 (Macintosh; Intel Mac OS X 10_14_4) AppleWebKit/537.36 (KHTML, like Gecko) Chrome/73.0.3683.103 Safari/537.36       34\n",
       " Mozilla/5.0 (Macintosh; Intel Mac OS X 10.14; rv:66.0) Gecko/20100101 Firefox/66.0                                               8\n",
       " Slackbot-LinkExpanding 1.0 (+https://api.slack.com/robots)                                                                       7\n",
       " Name: user_agent, dtype: int64,\n",
       " 0.471896    705\n",
       " 0.003396    548\n",
       " 0.003489    291\n",
       " 0.001266    229\n",
       " 0.001704    219\n",
       " Name: size_mb, dtype: int64]"
      ]
     },
     "execution_count": 37,
     "metadata": {},
     "output_type": "execute_result"
    }
   ],
   "source": [
    "[df[col].value_counts().head() for col in df.columns]\n"
   ]
  },
  {
   "cell_type": "markdown",
   "metadata": {},
   "source": [
    "From the code below:\n",
    "\n",
    "this looks interesting:\n",
    "\n",
    "\tMozilla/5.0 (Macintosh; Intel Mac OS X 10_14_4) AppleWebKit/537.36 (KHTML, like Gecko) Chrome/73.0.3683.103 Safari/537.36    0.002432\n",
    "\tMozilla/5.0 (Macintosh; Intel Mac OS X 10.14; rv:66.0) Gecko/20100101 Firefox/66.0                                           0.000572\n",
    "\tSlackbot-LinkExpanding 1.0 (+https://api.slack.com/robots)                                                                   0.000501"
   ]
  },
  {
   "cell_type": "code",
   "execution_count": 39,
   "metadata": {},
   "outputs": [
    {
     "data": {
      "text/plain": [
       "[97.105.19.58      0.858420\n",
       " 173.173.113.51    0.075762\n",
       " 72.181.113.170    0.043855\n",
       " 72.181.105.81     0.017599\n",
       " 68.201.219.223    0.001502\n",
       " Name: ip, dtype: float64,\n",
       " GET    1.0\n",
       " Name: request_method, dtype: float64,\n",
       " /api/v1/sales?page=2    0.050723\n",
       " /api/v1/items           0.033195\n",
       " /api/v1/items?page=2    0.020818\n",
       " /api/v1/items?page=3    0.015667\n",
       " /api/v1/stores          0.011590\n",
       " Name: request_path, dtype: float64,\n",
       " HTTP/1.1    1.0\n",
       " Name: http_version, dtype: float64,\n",
       " 200    0.998569\n",
       " 499    0.001145\n",
       " 200    0.000143\n",
       " 301    0.000143\n",
       " Name: status_code, dtype: float64,\n",
       " 494819    0.050436\n",
       " 3561      0.039204\n",
       " 3659      0.020818\n",
       " 1328      0.016383\n",
       " 1787      0.015667\n",
       " Name: size, dtype: float64,\n",
       " python-requests/2.21.0                                                                                                       0.858850\n",
       " python-requests/2.20.1                                                                                                       0.136715\n",
       " Mozilla/5.0 (Macintosh; Intel Mac OS X 10_14_4) AppleWebKit/537.36 (KHTML, like Gecko) Chrome/73.0.3683.103 Safari/537.36    0.002432\n",
       " Mozilla/5.0 (Macintosh; Intel Mac OS X 10.14; rv:66.0) Gecko/20100101 Firefox/66.0                                           0.000572\n",
       " Slackbot-LinkExpanding 1.0 (+https://api.slack.com/robots)                                                                   0.000501\n",
       " Name: user_agent, dtype: float64,\n",
       " 0.471896    0.050436\n",
       " 0.003396    0.039204\n",
       " 0.003489    0.020818\n",
       " 0.001266    0.016383\n",
       " 0.001704    0.015667\n",
       " Name: size_mb, dtype: float64]"
      ]
     },
     "execution_count": 39,
     "metadata": {},
     "output_type": "execute_result"
    }
   ],
   "source": [
    "[df[col].value_counts(normalize=True).head() for col in df.columns]\n"
   ]
  },
  {
   "cell_type": "code",
   "execution_count": 29,
   "metadata": {},
   "outputs": [],
   "source": [
    "def value_counts_and_frequencies(s: pd.Series, dropna=True) -> pd.DataFrame:\n",
    "    return pd.merge(\n",
    "        s.value_counts(dropna=False).rename('count'),\n",
    "        s.value_counts(dropna=False, normalize=True).rename('proba'),\n",
    "        left_index=True,\n",
    "        right_index=True,\n",
    "    )\n"
   ]
  },
  {
   "cell_type": "code",
   "execution_count": 77,
   "metadata": {},
   "outputs": [
    {
     "name": "stderr",
     "output_type": "stream",
     "text": [
      "/var/folders/mk/w2hz4wxx7xn5hr_56wz536gh0000gn/T/ipykernel_27878/3925870136.py:3: FutureWarning: Passing a dict as an indexer is deprecated and will raise in a future version. Use a list instead.\n",
      "  _= (value_counts_and_frequencies(df[col]))\n"
     ]
    },
    {
     "ename": "ValueError",
     "evalue": "No group keys passed!",
     "output_type": "error",
     "traceback": [
      "\u001b[0;31m---------------------------------------------------------------------------\u001b[0m",
      "\u001b[0;31mValueError\u001b[0m                                Traceback (most recent call last)",
      "\u001b[1;32m/Users/hinzlehome/codeup-data-science/anomaly-detection-exercises/jupyter/discrete_anomaly_detection.ipynb Cell 17'\u001b[0m in \u001b[0;36m<cell line: 1>\u001b[0;34m()\u001b[0m\n\u001b[1;32m      <a href='vscode-notebook-cell:/Users/hinzlehome/codeup-data-science/anomaly-detection-exercises/jupyter/discrete_anomaly_detection.ipynb#ch0000023?line=0'>1</a>\u001b[0m \u001b[39mfor\u001b[39;00m col \u001b[39min\u001b[39;00m df\u001b[39m.\u001b[39mcolumns:\n\u001b[1;32m      <a href='vscode-notebook-cell:/Users/hinzlehome/codeup-data-science/anomaly-detection-exercises/jupyter/discrete_anomaly_detection.ipynb#ch0000023?line=1'>2</a>\u001b[0m \tcol\u001b[39m=\u001b[39m{}\n\u001b[0;32m----> <a href='vscode-notebook-cell:/Users/hinzlehome/codeup-data-science/anomaly-detection-exercises/jupyter/discrete_anomaly_detection.ipynb#ch0000023?line=2'>3</a>\u001b[0m \t_\u001b[39m=\u001b[39m (value_counts_and_frequencies(df[col]))\n\u001b[1;32m      <a href='vscode-notebook-cell:/Users/hinzlehome/codeup-data-science/anomaly-detection-exercises/jupyter/discrete_anomaly_detection.ipynb#ch0000023?line=3'>4</a>\u001b[0m \tcol[col\u001b[39m+\u001b[39m\u001b[39m'\u001b[39m\u001b[39m_count\u001b[39m\u001b[39m'\u001b[39m]\u001b[39m=\u001b[39m_\u001b[39m.\u001b[39mcount\n\u001b[1;32m      <a href='vscode-notebook-cell:/Users/hinzlehome/codeup-data-science/anomaly-detection-exercises/jupyter/discrete_anomaly_detection.ipynb#ch0000023?line=4'>5</a>\u001b[0m \tcol[col\u001b[39m+\u001b[39m\u001b[39m'\u001b[39m\u001b[39m_proba\u001b[39m\u001b[39m'\u001b[39m]\u001b[39m=\u001b[39m_\u001b[39m.\u001b[39mproba\n",
      "\u001b[1;32m/Users/hinzlehome/codeup-data-science/anomaly-detection-exercises/jupyter/discrete_anomaly_detection.ipynb Cell 16'\u001b[0m in \u001b[0;36mvalue_counts_and_frequencies\u001b[0;34m(s, dropna)\u001b[0m\n\u001b[1;32m      <a href='vscode-notebook-cell:/Users/hinzlehome/codeup-data-science/anomaly-detection-exercises/jupyter/discrete_anomaly_detection.ipynb#ch0000022?line=0'>1</a>\u001b[0m \u001b[39mdef\u001b[39;00m \u001b[39mvalue_counts_and_frequencies\u001b[39m(s: pd\u001b[39m.\u001b[39mSeries, dropna\u001b[39m=\u001b[39m\u001b[39mTrue\u001b[39;00m) \u001b[39m-\u001b[39m\u001b[39m>\u001b[39m pd\u001b[39m.\u001b[39mDataFrame:\n\u001b[1;32m      <a href='vscode-notebook-cell:/Users/hinzlehome/codeup-data-science/anomaly-detection-exercises/jupyter/discrete_anomaly_detection.ipynb#ch0000022?line=1'>2</a>\u001b[0m     \u001b[39mreturn\u001b[39;00m pd\u001b[39m.\u001b[39mmerge(\n\u001b[0;32m----> <a href='vscode-notebook-cell:/Users/hinzlehome/codeup-data-science/anomaly-detection-exercises/jupyter/discrete_anomaly_detection.ipynb#ch0000022?line=2'>3</a>\u001b[0m         s\u001b[39m.\u001b[39;49mvalue_counts(dropna\u001b[39m=\u001b[39;49m\u001b[39mFalse\u001b[39;49;00m)\u001b[39m.\u001b[39mrename(\u001b[39m'\u001b[39m\u001b[39mcount\u001b[39m\u001b[39m'\u001b[39m),\n\u001b[1;32m      <a href='vscode-notebook-cell:/Users/hinzlehome/codeup-data-science/anomaly-detection-exercises/jupyter/discrete_anomaly_detection.ipynb#ch0000022?line=3'>4</a>\u001b[0m         s\u001b[39m.\u001b[39mvalue_counts(dropna\u001b[39m=\u001b[39m\u001b[39mFalse\u001b[39;00m, normalize\u001b[39m=\u001b[39m\u001b[39mTrue\u001b[39;00m)\u001b[39m.\u001b[39mrename(\u001b[39m'\u001b[39m\u001b[39mproba\u001b[39m\u001b[39m'\u001b[39m),\n\u001b[1;32m      <a href='vscode-notebook-cell:/Users/hinzlehome/codeup-data-science/anomaly-detection-exercises/jupyter/discrete_anomaly_detection.ipynb#ch0000022?line=4'>5</a>\u001b[0m         left_index\u001b[39m=\u001b[39m\u001b[39mTrue\u001b[39;00m,\n\u001b[1;32m      <a href='vscode-notebook-cell:/Users/hinzlehome/codeup-data-science/anomaly-detection-exercises/jupyter/discrete_anomaly_detection.ipynb#ch0000022?line=5'>6</a>\u001b[0m         right_index\u001b[39m=\u001b[39m\u001b[39mTrue\u001b[39;00m,\n\u001b[1;32m      <a href='vscode-notebook-cell:/Users/hinzlehome/codeup-data-science/anomaly-detection-exercises/jupyter/discrete_anomaly_detection.ipynb#ch0000022?line=6'>7</a>\u001b[0m     )\n",
      "File \u001b[0;32m/usr/local/anaconda3/lib/python3.9/site-packages/pandas/core/frame.py:6570\u001b[0m, in \u001b[0;36mDataFrame.value_counts\u001b[0;34m(self, subset, normalize, sort, ascending, dropna)\u001b[0m\n\u001b[1;32m   <a href='file:///usr/local/anaconda3/lib/python3.9/site-packages/pandas/core/frame.py?line=6566'>6567</a>\u001b[0m \u001b[39mif\u001b[39;00m subset \u001b[39mis\u001b[39;00m \u001b[39mNone\u001b[39;00m:\n\u001b[1;32m   <a href='file:///usr/local/anaconda3/lib/python3.9/site-packages/pandas/core/frame.py?line=6567'>6568</a>\u001b[0m     subset \u001b[39m=\u001b[39m \u001b[39mself\u001b[39m\u001b[39m.\u001b[39mcolumns\u001b[39m.\u001b[39mtolist()\n\u001b[0;32m-> <a href='file:///usr/local/anaconda3/lib/python3.9/site-packages/pandas/core/frame.py?line=6569'>6570</a>\u001b[0m counts \u001b[39m=\u001b[39m \u001b[39mself\u001b[39;49m\u001b[39m.\u001b[39;49mgroupby(subset, dropna\u001b[39m=\u001b[39;49mdropna)\u001b[39m.\u001b[39mgrouper\u001b[39m.\u001b[39msize()\n\u001b[1;32m   <a href='file:///usr/local/anaconda3/lib/python3.9/site-packages/pandas/core/frame.py?line=6571'>6572</a>\u001b[0m \u001b[39mif\u001b[39;00m sort:\n\u001b[1;32m   <a href='file:///usr/local/anaconda3/lib/python3.9/site-packages/pandas/core/frame.py?line=6572'>6573</a>\u001b[0m     counts \u001b[39m=\u001b[39m counts\u001b[39m.\u001b[39msort_values(ascending\u001b[39m=\u001b[39mascending)\n",
      "File \u001b[0;32m/usr/local/anaconda3/lib/python3.9/site-packages/pandas/core/frame.py:7712\u001b[0m, in \u001b[0;36mDataFrame.groupby\u001b[0;34m(self, by, axis, level, as_index, sort, group_keys, squeeze, observed, dropna)\u001b[0m\n\u001b[1;32m   <a href='file:///usr/local/anaconda3/lib/python3.9/site-packages/pandas/core/frame.py?line=7706'>7707</a>\u001b[0m axis \u001b[39m=\u001b[39m \u001b[39mself\u001b[39m\u001b[39m.\u001b[39m_get_axis_number(axis)\n\u001b[1;32m   <a href='file:///usr/local/anaconda3/lib/python3.9/site-packages/pandas/core/frame.py?line=7708'>7709</a>\u001b[0m \u001b[39m# https://github.com/python/mypy/issues/7642\u001b[39;00m\n\u001b[1;32m   <a href='file:///usr/local/anaconda3/lib/python3.9/site-packages/pandas/core/frame.py?line=7709'>7710</a>\u001b[0m \u001b[39m# error: Argument \"squeeze\" to \"DataFrameGroupBy\" has incompatible type\u001b[39;00m\n\u001b[1;32m   <a href='file:///usr/local/anaconda3/lib/python3.9/site-packages/pandas/core/frame.py?line=7710'>7711</a>\u001b[0m \u001b[39m# \"Union[bool, NoDefault]\"; expected \"bool\"\u001b[39;00m\n\u001b[0;32m-> <a href='file:///usr/local/anaconda3/lib/python3.9/site-packages/pandas/core/frame.py?line=7711'>7712</a>\u001b[0m \u001b[39mreturn\u001b[39;00m DataFrameGroupBy(\n\u001b[1;32m   <a href='file:///usr/local/anaconda3/lib/python3.9/site-packages/pandas/core/frame.py?line=7712'>7713</a>\u001b[0m     obj\u001b[39m=\u001b[39;49m\u001b[39mself\u001b[39;49m,\n\u001b[1;32m   <a href='file:///usr/local/anaconda3/lib/python3.9/site-packages/pandas/core/frame.py?line=7713'>7714</a>\u001b[0m     keys\u001b[39m=\u001b[39;49mby,\n\u001b[1;32m   <a href='file:///usr/local/anaconda3/lib/python3.9/site-packages/pandas/core/frame.py?line=7714'>7715</a>\u001b[0m     axis\u001b[39m=\u001b[39;49maxis,\n\u001b[1;32m   <a href='file:///usr/local/anaconda3/lib/python3.9/site-packages/pandas/core/frame.py?line=7715'>7716</a>\u001b[0m     level\u001b[39m=\u001b[39;49mlevel,\n\u001b[1;32m   <a href='file:///usr/local/anaconda3/lib/python3.9/site-packages/pandas/core/frame.py?line=7716'>7717</a>\u001b[0m     as_index\u001b[39m=\u001b[39;49mas_index,\n\u001b[1;32m   <a href='file:///usr/local/anaconda3/lib/python3.9/site-packages/pandas/core/frame.py?line=7717'>7718</a>\u001b[0m     sort\u001b[39m=\u001b[39;49msort,\n\u001b[1;32m   <a href='file:///usr/local/anaconda3/lib/python3.9/site-packages/pandas/core/frame.py?line=7718'>7719</a>\u001b[0m     group_keys\u001b[39m=\u001b[39;49mgroup_keys,\n\u001b[1;32m   <a href='file:///usr/local/anaconda3/lib/python3.9/site-packages/pandas/core/frame.py?line=7719'>7720</a>\u001b[0m     squeeze\u001b[39m=\u001b[39;49msqueeze,  \u001b[39m# type: ignore[arg-type]\u001b[39;49;00m\n\u001b[1;32m   <a href='file:///usr/local/anaconda3/lib/python3.9/site-packages/pandas/core/frame.py?line=7720'>7721</a>\u001b[0m     observed\u001b[39m=\u001b[39;49mobserved,\n\u001b[1;32m   <a href='file:///usr/local/anaconda3/lib/python3.9/site-packages/pandas/core/frame.py?line=7721'>7722</a>\u001b[0m     dropna\u001b[39m=\u001b[39;49mdropna,\n\u001b[1;32m   <a href='file:///usr/local/anaconda3/lib/python3.9/site-packages/pandas/core/frame.py?line=7722'>7723</a>\u001b[0m )\n",
      "File \u001b[0;32m/usr/local/anaconda3/lib/python3.9/site-packages/pandas/core/groupby/groupby.py:882\u001b[0m, in \u001b[0;36mGroupBy.__init__\u001b[0;34m(self, obj, keys, axis, level, grouper, exclusions, selection, as_index, sort, group_keys, squeeze, observed, mutated, dropna)\u001b[0m\n\u001b[1;32m    <a href='file:///usr/local/anaconda3/lib/python3.9/site-packages/pandas/core/groupby/groupby.py?line=878'>879</a>\u001b[0m \u001b[39mif\u001b[39;00m grouper \u001b[39mis\u001b[39;00m \u001b[39mNone\u001b[39;00m:\n\u001b[1;32m    <a href='file:///usr/local/anaconda3/lib/python3.9/site-packages/pandas/core/groupby/groupby.py?line=879'>880</a>\u001b[0m     \u001b[39mfrom\u001b[39;00m \u001b[39mpandas\u001b[39;00m\u001b[39m.\u001b[39;00m\u001b[39mcore\u001b[39;00m\u001b[39m.\u001b[39;00m\u001b[39mgroupby\u001b[39;00m\u001b[39m.\u001b[39;00m\u001b[39mgrouper\u001b[39;00m \u001b[39mimport\u001b[39;00m get_grouper\n\u001b[0;32m--> <a href='file:///usr/local/anaconda3/lib/python3.9/site-packages/pandas/core/groupby/groupby.py?line=881'>882</a>\u001b[0m     grouper, exclusions, obj \u001b[39m=\u001b[39m get_grouper(\n\u001b[1;32m    <a href='file:///usr/local/anaconda3/lib/python3.9/site-packages/pandas/core/groupby/groupby.py?line=882'>883</a>\u001b[0m         obj,\n\u001b[1;32m    <a href='file:///usr/local/anaconda3/lib/python3.9/site-packages/pandas/core/groupby/groupby.py?line=883'>884</a>\u001b[0m         keys,\n\u001b[1;32m    <a href='file:///usr/local/anaconda3/lib/python3.9/site-packages/pandas/core/groupby/groupby.py?line=884'>885</a>\u001b[0m         axis\u001b[39m=\u001b[39;49maxis,\n\u001b[1;32m    <a href='file:///usr/local/anaconda3/lib/python3.9/site-packages/pandas/core/groupby/groupby.py?line=885'>886</a>\u001b[0m         level\u001b[39m=\u001b[39;49mlevel,\n\u001b[1;32m    <a href='file:///usr/local/anaconda3/lib/python3.9/site-packages/pandas/core/groupby/groupby.py?line=886'>887</a>\u001b[0m         sort\u001b[39m=\u001b[39;49msort,\n\u001b[1;32m    <a href='file:///usr/local/anaconda3/lib/python3.9/site-packages/pandas/core/groupby/groupby.py?line=887'>888</a>\u001b[0m         observed\u001b[39m=\u001b[39;49mobserved,\n\u001b[1;32m    <a href='file:///usr/local/anaconda3/lib/python3.9/site-packages/pandas/core/groupby/groupby.py?line=888'>889</a>\u001b[0m         mutated\u001b[39m=\u001b[39;49m\u001b[39mself\u001b[39;49m\u001b[39m.\u001b[39;49mmutated,\n\u001b[1;32m    <a href='file:///usr/local/anaconda3/lib/python3.9/site-packages/pandas/core/groupby/groupby.py?line=889'>890</a>\u001b[0m         dropna\u001b[39m=\u001b[39;49m\u001b[39mself\u001b[39;49m\u001b[39m.\u001b[39;49mdropna,\n\u001b[1;32m    <a href='file:///usr/local/anaconda3/lib/python3.9/site-packages/pandas/core/groupby/groupby.py?line=890'>891</a>\u001b[0m     )\n\u001b[1;32m    <a href='file:///usr/local/anaconda3/lib/python3.9/site-packages/pandas/core/groupby/groupby.py?line=892'>893</a>\u001b[0m \u001b[39mself\u001b[39m\u001b[39m.\u001b[39mobj \u001b[39m=\u001b[39m obj\n\u001b[1;32m    <a href='file:///usr/local/anaconda3/lib/python3.9/site-packages/pandas/core/groupby/groupby.py?line=893'>894</a>\u001b[0m \u001b[39mself\u001b[39m\u001b[39m.\u001b[39maxis \u001b[39m=\u001b[39m obj\u001b[39m.\u001b[39m_get_axis_number(axis)\n",
      "File \u001b[0;32m/usr/local/anaconda3/lib/python3.9/site-packages/pandas/core/groupby/grouper.py:910\u001b[0m, in \u001b[0;36mget_grouper\u001b[0;34m(obj, key, axis, level, sort, observed, mutated, validate, dropna)\u001b[0m\n\u001b[1;32m    <a href='file:///usr/local/anaconda3/lib/python3.9/site-packages/pandas/core/groupby/grouper.py?line=906'>907</a>\u001b[0m     groupings\u001b[39m.\u001b[39mappend(ping)\n\u001b[1;32m    <a href='file:///usr/local/anaconda3/lib/python3.9/site-packages/pandas/core/groupby/grouper.py?line=908'>909</a>\u001b[0m \u001b[39mif\u001b[39;00m \u001b[39mlen\u001b[39m(groupings) \u001b[39m==\u001b[39m \u001b[39m0\u001b[39m \u001b[39mand\u001b[39;00m \u001b[39mlen\u001b[39m(obj):\n\u001b[0;32m--> <a href='file:///usr/local/anaconda3/lib/python3.9/site-packages/pandas/core/groupby/grouper.py?line=909'>910</a>\u001b[0m     \u001b[39mraise\u001b[39;00m \u001b[39mValueError\u001b[39;00m(\u001b[39m\"\u001b[39m\u001b[39mNo group keys passed!\u001b[39m\u001b[39m\"\u001b[39m)\n\u001b[1;32m    <a href='file:///usr/local/anaconda3/lib/python3.9/site-packages/pandas/core/groupby/grouper.py?line=910'>911</a>\u001b[0m \u001b[39melif\u001b[39;00m \u001b[39mlen\u001b[39m(groupings) \u001b[39m==\u001b[39m \u001b[39m0\u001b[39m:\n\u001b[1;32m    <a href='file:///usr/local/anaconda3/lib/python3.9/site-packages/pandas/core/groupby/grouper.py?line=911'>912</a>\u001b[0m     groupings\u001b[39m.\u001b[39mappend(Grouping(Index([], dtype\u001b[39m=\u001b[39m\u001b[39m\"\u001b[39m\u001b[39mint\u001b[39m\u001b[39m\"\u001b[39m), np\u001b[39m.\u001b[39marray([], dtype\u001b[39m=\u001b[39mnp\u001b[39m.\u001b[39mintp)))\n",
      "\u001b[0;31mValueError\u001b[0m: No group keys passed!"
     ]
    }
   ],
   "source": [
    "for col in df.columns:\n",
    "\tcol+''={}\n",
    "\t_= (value_counts_and_frequencies(df[col]))\n",
    "\tcol[col+'_count']=_.count\n",
    "\tcol[col+'_proba']=_.proba\n",
    "\t"
   ]
  },
  {
   "cell_type": "code",
   "execution_count": 65,
   "metadata": {},
   "outputs": [
    {
     "data": {
      "text/plain": [
       "dict_keys(['ip_count', 'ip_proba', 'request_method_count', 'request_method_proba', 'request_path_count', 'request_path_proba', 'http_version_count', 'http_version_proba', 'status_code_count', 'status_code_proba', 'size_count', 'size_proba', 'user_agent_count', 'user_agent_proba', 'size_mb_count', 'size_mb_proba'])"
      ]
     },
     "execution_count": 65,
     "metadata": {},
     "output_type": "execute_result"
    }
   ],
   "source": [
    "holder.keys()"
   ]
  },
  {
   "cell_type": "code",
   "execution_count": 74,
   "metadata": {},
   "outputs": [],
   "source": [
    "d=holder['request_method_count']"
   ]
  },
  {
   "cell_type": "code",
   "execution_count": 76,
   "metadata": {},
   "outputs": [
    {
     "data": {
      "text/plain": [
       "<bound method DataFrame.count of      count  proba\n",
       "GET  13978    1.0>"
      ]
     },
     "execution_count": 76,
     "metadata": {},
     "output_type": "execute_result"
    }
   ],
   "source": [
    "d"
   ]
  },
  {
   "cell_type": "code",
   "execution_count": 75,
   "metadata": {},
   "outputs": [
    {
     "data": {
      "text/plain": [
       "method"
      ]
     },
     "execution_count": 75,
     "metadata": {},
     "output_type": "execute_result"
    }
   ],
   "source": [
    "type(d)"
   ]
  },
  {
   "cell_type": "code",
   "execution_count": 73,
   "metadata": {},
   "outputs": [
    {
     "ename": "AttributeError",
     "evalue": "'function' object has no attribute 'count'",
     "output_type": "error",
     "traceback": [
      "\u001b[0;31m---------------------------------------------------------------------------\u001b[0m",
      "\u001b[0;31mAttributeError\u001b[0m                            Traceback (most recent call last)",
      "\u001b[1;32m/Users/hinzlehome/codeup-data-science/anomaly-detection-exercises/jupyter/discrete_anomaly_detection.ipynb Cell 20'\u001b[0m in \u001b[0;36m<cell line: 1>\u001b[0;34m()\u001b[0m\n\u001b[0;32m----> <a href='vscode-notebook-cell:/Users/hinzlehome/codeup-data-science/anomaly-detection-exercises/jupyter/discrete_anomaly_detection.ipynb#ch0000024?line=0'>1</a>\u001b[0m [holder[key]\u001b[39m.\u001b[39mcount \u001b[39mfor\u001b[39;00m key \u001b[39min\u001b[39;00m holder\u001b[39m.\u001b[39mkeys()]\n",
      "\u001b[1;32m/Users/hinzlehome/codeup-data-science/anomaly-detection-exercises/jupyter/discrete_anomaly_detection.ipynb Cell 20'\u001b[0m in \u001b[0;36m<listcomp>\u001b[0;34m(.0)\u001b[0m\n\u001b[0;32m----> <a href='vscode-notebook-cell:/Users/hinzlehome/codeup-data-science/anomaly-detection-exercises/jupyter/discrete_anomaly_detection.ipynb#ch0000024?line=0'>1</a>\u001b[0m [holder[key]\u001b[39m.\u001b[39;49mcount \u001b[39mfor\u001b[39;00m key \u001b[39min\u001b[39;00m holder\u001b[39m.\u001b[39mkeys()]\n",
      "\u001b[0;31mAttributeError\u001b[0m: 'function' object has no attribute 'count'"
     ]
    }
   ],
   "source": [
    "[holder[key].count for key in holder.keys()]\n"
   ]
  },
  {
   "cell_type": "code",
   "execution_count": null,
   "metadata": {},
   "outputs": [
    {
     "ename": "AttributeError",
     "evalue": "'function' object has no attribute 'sort_values'",
     "output_type": "error",
     "traceback": [
      "\u001b[0;31m---------------------------------------------------------------------------\u001b[0m\n",
      "\u001b[0;31mAttributeError\u001b[0m                            Traceback (most recent call last)\n",
      "\u001b[1;32m/Users/hinzlehome/codeup-data-science/anomaly-detection-exercises/jupyter/discrete_anomaly_detection.ipynb Cell 20'\u001b[0m in \u001b[0;36m<cell line: 1>\u001b[0;34m()\u001b[0m\n",
      "\u001b[0;32m----> <a href='vscode-notebook-cell:/Users/hinzlehome/codeup-data-science/anomaly-detection-exercises/jupyter/discrete_anomaly_detection.ipynb#ch0000024?line=0'>1</a>\u001b[0m [holder[key]\u001b[39m.\u001b[39msort_values()\u001b[39m.\u001b[39mtail(\u001b[39m5\u001b[39m)\u001b[39m.\u001b[39mplot\u001b[39m.\u001b[39mbarh(figsize\u001b[39m=\u001b[39m(\u001b[39m5\u001b[39m, \u001b[39m9\u001b[39m)) \u001b[39mfor\u001b[39;00m key \u001b[39min\u001b[39;00m holder\u001b[39m.\u001b[39mkeys()]\n",
      "\n",
      "\u001b[1;32m/Users/hinzlehome/codeup-data-science/anomaly-detection-exercises/jupyter/discrete_anomaly_detection.ipynb Cell 20'\u001b[0m in \u001b[0;36m<listcomp>\u001b[0;34m(.0)\u001b[0m\n",
      "\u001b[0;32m----> <a href='vscode-notebook-cell:/Users/hinzlehome/codeup-data-science/anomaly-detection-exercises/jupyter/discrete_anomaly_detection.ipynb#ch0000024?line=0'>1</a>\u001b[0m [holder[key]\u001b[39m.\u001b[39;49msort_values()\u001b[39m.\u001b[39mtail(\u001b[39m5\u001b[39m)\u001b[39m.\u001b[39mplot\u001b[39m.\u001b[39mbarh(figsize\u001b[39m=\u001b[39m(\u001b[39m5\u001b[39m, \u001b[39m9\u001b[39m)) \u001b[39mfor\u001b[39;00m key \u001b[39min\u001b[39;00m holder\u001b[39m.\u001b[39mkeys()]\n",
      "\n",
      "\u001b[0;31mAttributeError\u001b[0m: 'function' object has no attribute 'sort_values'"
     ]
    }
   ],
   "source": [
    "[holder[key].sort_values().tail(5).plot.barh(figsize=(5, 9)) for key in holder.keys()]\n"
   ]
  },
  {
   "cell_type": "markdown",
   "metadata": {},
   "source": [
    "# Conditional Probabilities: Probabilities Using 2 Discrete Variables"
   ]
  },
  {
   "cell_type": "code",
   "execution_count": 32,
   "metadata": {},
   "outputs": [
    {
     "data": {
      "text/html": [
       "<div>\n",
       "<style scoped>\n",
       "    .dataframe tbody tr th:only-of-type {\n",
       "        vertical-align: middle;\n",
       "    }\n",
       "\n",
       "    .dataframe tbody tr th {\n",
       "        vertical-align: top;\n",
       "    }\n",
       "\n",
       "    .dataframe thead th {\n",
       "        text-align: right;\n",
       "    }\n",
       "</style>\n",
       "<table border=\"1\" class=\"dataframe\">\n",
       "  <thead>\n",
       "    <tr style=\"text-align: right;\">\n",
       "      <th></th>\n",
       "      <th>ip</th>\n",
       "      <th>status_code</th>\n",
       "      <th>proba_status_given_ip</th>\n",
       "    </tr>\n",
       "  </thead>\n",
       "  <tbody>\n",
       "    <tr>\n",
       "      <th>0</th>\n",
       "      <td>173.173.113.51</td>\n",
       "      <td>200</td>\n",
       "      <td>1.0</td>\n",
       "    </tr>\n",
       "    <tr>\n",
       "      <th>1</th>\n",
       "      <td>24.26.242.9</td>\n",
       "      <td>200</td>\n",
       "      <td>1.0</td>\n",
       "    </tr>\n",
       "    <tr>\n",
       "      <th>2</th>\n",
       "      <td>3.88.129.158</td>\n",
       "      <td>200</td>\n",
       "      <td>1.0</td>\n",
       "    </tr>\n",
       "    <tr>\n",
       "      <th>3</th>\n",
       "      <td>3.92.201.136</td>\n",
       "      <td>200</td>\n",
       "      <td>1.0</td>\n",
       "    </tr>\n",
       "    <tr>\n",
       "      <th>4</th>\n",
       "      <td>34.207.64.242</td>\n",
       "      <td>200</td>\n",
       "      <td>1.0</td>\n",
       "    </tr>\n",
       "  </tbody>\n",
       "</table>\n",
       "</div>"
      ],
      "text/plain": [
       "               ip status_code  proba_status_given_ip\n",
       "0  173.173.113.51         200                    1.0\n",
       "1     24.26.242.9         200                    1.0\n",
       "2    3.88.129.158         200                    1.0\n",
       "3    3.92.201.136         200                    1.0\n",
       "4   34.207.64.242         200                    1.0"
      ]
     },
     "execution_count": 32,
     "metadata": {},
     "output_type": "execute_result"
    }
   ],
   "source": [
    "status_given_ip = (\n",
    "    df.groupby('ip')\n",
    "    .status_code.value_counts(normalize=True)\n",
    "    .rename('proba_status_given_ip')\n",
    "    .reset_index()\n",
    ")\n",
    "status_given_ip.head()\n"
   ]
  },
  {
   "cell_type": "code",
   "execution_count": 33,
   "metadata": {},
   "outputs": [
    {
     "data": {
      "text/html": [
       "<div>\n",
       "<style scoped>\n",
       "    .dataframe tbody tr th:only-of-type {\n",
       "        vertical-align: middle;\n",
       "    }\n",
       "\n",
       "    .dataframe tbody tr th {\n",
       "        vertical-align: top;\n",
       "    }\n",
       "\n",
       "    .dataframe thead th {\n",
       "        text-align: right;\n",
       "    }\n",
       "</style>\n",
       "<table border=\"1\" class=\"dataframe\">\n",
       "  <thead>\n",
       "    <tr style=\"text-align: right;\">\n",
       "      <th></th>\n",
       "      <th>ip</th>\n",
       "      <th>status_code</th>\n",
       "      <th>proba_status_given_ip</th>\n",
       "    </tr>\n",
       "  </thead>\n",
       "  <tbody>\n",
       "    <tr>\n",
       "      <th>0</th>\n",
       "      <td>173.173.113.51</td>\n",
       "      <td>200</td>\n",
       "      <td>1.000000</td>\n",
       "    </tr>\n",
       "    <tr>\n",
       "      <th>1</th>\n",
       "      <td>24.26.242.9</td>\n",
       "      <td>200</td>\n",
       "      <td>1.000000</td>\n",
       "    </tr>\n",
       "    <tr>\n",
       "      <th>2</th>\n",
       "      <td>3.88.129.158</td>\n",
       "      <td>200</td>\n",
       "      <td>1.000000</td>\n",
       "    </tr>\n",
       "    <tr>\n",
       "      <th>3</th>\n",
       "      <td>3.92.201.136</td>\n",
       "      <td>200</td>\n",
       "      <td>1.000000</td>\n",
       "    </tr>\n",
       "    <tr>\n",
       "      <th>4</th>\n",
       "      <td>34.207.64.242</td>\n",
       "      <td>200</td>\n",
       "      <td>1.000000</td>\n",
       "    </tr>\n",
       "    <tr>\n",
       "      <th>5</th>\n",
       "      <td>34.229.70.250</td>\n",
       "      <td>200</td>\n",
       "      <td>1.000000</td>\n",
       "    </tr>\n",
       "    <tr>\n",
       "      <th>6</th>\n",
       "      <td>35.174.209.2</td>\n",
       "      <td>200</td>\n",
       "      <td>1.000000</td>\n",
       "    </tr>\n",
       "    <tr>\n",
       "      <th>7</th>\n",
       "      <td>35.175.171.137</td>\n",
       "      <td>200</td>\n",
       "      <td>1.000000</td>\n",
       "    </tr>\n",
       "    <tr>\n",
       "      <th>8</th>\n",
       "      <td>45.23.250.16</td>\n",
       "      <td>200</td>\n",
       "      <td>1.000000</td>\n",
       "    </tr>\n",
       "    <tr>\n",
       "      <th>9</th>\n",
       "      <td>52.87.230.102</td>\n",
       "      <td>200</td>\n",
       "      <td>1.000000</td>\n",
       "    </tr>\n",
       "    <tr>\n",
       "      <th>10</th>\n",
       "      <td>52.90.165.200</td>\n",
       "      <td>200</td>\n",
       "      <td>1.000000</td>\n",
       "    </tr>\n",
       "    <tr>\n",
       "      <th>11</th>\n",
       "      <td>52.91.30.150</td>\n",
       "      <td>200</td>\n",
       "      <td>1.000000</td>\n",
       "    </tr>\n",
       "    <tr>\n",
       "      <th>12</th>\n",
       "      <td>54.145.52.184</td>\n",
       "      <td>200</td>\n",
       "      <td>1.000000</td>\n",
       "    </tr>\n",
       "    <tr>\n",
       "      <th>13</th>\n",
       "      <td>54.172.14.223</td>\n",
       "      <td>200</td>\n",
       "      <td>1.000000</td>\n",
       "    </tr>\n",
       "    <tr>\n",
       "      <th>14</th>\n",
       "      <td>68.201.219.223</td>\n",
       "      <td>200</td>\n",
       "      <td>1.000000</td>\n",
       "    </tr>\n",
       "    <tr>\n",
       "      <th>15</th>\n",
       "      <td>70.121.214.34</td>\n",
       "      <td>200</td>\n",
       "      <td>1.000000</td>\n",
       "    </tr>\n",
       "    <tr>\n",
       "      <th>16</th>\n",
       "      <td>72.181.105.81</td>\n",
       "      <td>200</td>\n",
       "      <td>1.000000</td>\n",
       "    </tr>\n",
       "    <tr>\n",
       "      <th>17</th>\n",
       "      <td>72.181.113.170</td>\n",
       "      <td>200</td>\n",
       "      <td>0.996737</td>\n",
       "    </tr>\n",
       "    <tr>\n",
       "      <th>18</th>\n",
       "      <td>72.181.113.170</td>\n",
       "      <td>499</td>\n",
       "      <td>0.003263</td>\n",
       "    </tr>\n",
       "    <tr>\n",
       "      <th>19</th>\n",
       "      <td>95.31.16.121</td>\n",
       "      <td>301</td>\n",
       "      <td>1.000000</td>\n",
       "    </tr>\n",
       "    <tr>\n",
       "      <th>21</th>\n",
       "      <td>97.105.15.120</td>\n",
       "      <td>301</td>\n",
       "      <td>1.000000</td>\n",
       "    </tr>\n",
       "    <tr>\n",
       "      <th>22</th>\n",
       "      <td>97.105.19.58</td>\n",
       "      <td>200</td>\n",
       "      <td>0.998750</td>\n",
       "    </tr>\n",
       "    <tr>\n",
       "      <th>23</th>\n",
       "      <td>97.105.19.58</td>\n",
       "      <td>499</td>\n",
       "      <td>0.001167</td>\n",
       "    </tr>\n",
       "  </tbody>\n",
       "</table>\n",
       "</div>"
      ],
      "text/plain": [
       "                ip status_code  proba_status_given_ip\n",
       "0   173.173.113.51         200               1.000000\n",
       "1      24.26.242.9         200               1.000000\n",
       "2     3.88.129.158         200               1.000000\n",
       "3     3.92.201.136         200               1.000000\n",
       "4    34.207.64.242         200               1.000000\n",
       "5    34.229.70.250         200               1.000000\n",
       "6     35.174.209.2         200               1.000000\n",
       "7   35.175.171.137         200               1.000000\n",
       "8     45.23.250.16         200               1.000000\n",
       "9    52.87.230.102         200               1.000000\n",
       "10   52.90.165.200         200               1.000000\n",
       "11    52.91.30.150         200               1.000000\n",
       "12   54.145.52.184         200               1.000000\n",
       "13   54.172.14.223         200               1.000000\n",
       "14  68.201.219.223         200               1.000000\n",
       "15   70.121.214.34         200               1.000000\n",
       "16   72.181.105.81         200               1.000000\n",
       "17  72.181.113.170         200               0.996737\n",
       "18  72.181.113.170         499               0.003263\n",
       "19    95.31.16.121         301               1.000000\n",
       "21   97.105.15.120         301               1.000000\n",
       "22    97.105.19.58         200               0.998750\n",
       "23    97.105.19.58         499               0.001167"
      ]
     },
     "execution_count": 33,
     "metadata": {},
     "output_type": "execute_result"
    }
   ],
   "source": [
    "status_given_ip[status_given_ip.status_code != '200']\n"
   ]
  },
  {
   "cell_type": "code",
   "execution_count": 34,
   "metadata": {},
   "outputs": [
    {
     "data": {
      "text/html": [
       "<div>\n",
       "<style scoped>\n",
       "    .dataframe tbody tr th:only-of-type {\n",
       "        vertical-align: middle;\n",
       "    }\n",
       "\n",
       "    .dataframe tbody tr th {\n",
       "        vertical-align: top;\n",
       "    }\n",
       "\n",
       "    .dataframe thead th {\n",
       "        text-align: right;\n",
       "    }\n",
       "</style>\n",
       "<table border=\"1\" class=\"dataframe\">\n",
       "  <thead>\n",
       "    <tr style=\"text-align: right;\">\n",
       "      <th></th>\n",
       "      <th>ip</th>\n",
       "      <th>status_code</th>\n",
       "      <th>proba_status_given_ip</th>\n",
       "    </tr>\n",
       "  </thead>\n",
       "  <tbody>\n",
       "    <tr>\n",
       "      <th>17</th>\n",
       "      <td>72.181.113.170</td>\n",
       "      <td>200</td>\n",
       "      <td>0.996737</td>\n",
       "    </tr>\n",
       "    <tr>\n",
       "      <th>18</th>\n",
       "      <td>72.181.113.170</td>\n",
       "      <td>499</td>\n",
       "      <td>0.003263</td>\n",
       "    </tr>\n",
       "    <tr>\n",
       "      <th>22</th>\n",
       "      <td>97.105.19.58</td>\n",
       "      <td>200</td>\n",
       "      <td>0.998750</td>\n",
       "    </tr>\n",
       "    <tr>\n",
       "      <th>23</th>\n",
       "      <td>97.105.19.58</td>\n",
       "      <td>499</td>\n",
       "      <td>0.001167</td>\n",
       "    </tr>\n",
       "    <tr>\n",
       "      <th>24</th>\n",
       "      <td>97.105.19.58</td>\n",
       "      <td>200</td>\n",
       "      <td>0.000083</td>\n",
       "    </tr>\n",
       "  </tbody>\n",
       "</table>\n",
       "</div>"
      ],
      "text/plain": [
       "                ip status_code  proba_status_given_ip\n",
       "17  72.181.113.170         200               0.996737\n",
       "18  72.181.113.170         499               0.003263\n",
       "22    97.105.19.58         200               0.998750\n",
       "23    97.105.19.58         499               0.001167\n",
       "24    97.105.19.58         200               0.000083"
      ]
     },
     "execution_count": 34,
     "metadata": {},
     "output_type": "execute_result"
    }
   ],
   "source": [
    "status_given_ip[status_given_ip.proba_status_given_ip < 1]\n"
   ]
  },
  {
   "cell_type": "markdown",
   "metadata": {},
   "source": []
  }
 ],
 "metadata": {
  "interpreter": {
   "hash": "3067ead486e059ec00ffe7555bdb889e6e264a24dc711bf108106cc7baee8d5d"
  },
  "kernelspec": {
   "display_name": "Python 3.9.12 ('base')",
   "language": "python",
   "name": "python3"
  },
  "language_info": {
   "codemirror_mode": {
    "name": "ipython",
    "version": 3
   },
   "file_extension": ".py",
   "mimetype": "text/x-python",
   "name": "python",
   "nbconvert_exporter": "python",
   "pygments_lexer": "ipython3",
   "version": "3.9.12"
  },
  "orig_nbformat": 4
 },
 "nbformat": 4,
 "nbformat_minor": 2
}
